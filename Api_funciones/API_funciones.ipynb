{
 "cells": [
  {
   "cell_type": "code",
   "execution_count": 2,
   "metadata": {},
   "outputs": [],
   "source": [
    "import pandas as pd\n",
    "from typing import Dict\n",
    "import warnings\n",
    "warnings.filterwarnings(\"ignore\")"
   ]
  },
  {
   "cell_type": "code",
   "execution_count": 8,
   "metadata": {},
   "outputs": [],
   "source": [
    "df_playtime_genre = pd.read_csv('C:/Users/Daniel/Downloads/PI_01_07/Data/Df_funciones/playtime_genre.csv', encoding='utf-8')\n",
    "df_user_for_genre = pd.read_csv('C:/Users/Daniel/Downloads/PI_01_07/Data/Df_funciones/user_for_genre.csv', encoding='utf-8')\n",
    "df_user_recommend = pd.read_csv('C:/Users/Daniel/Downloads/PI_01_07/Data/Df_funciones/user_recommend.csv', encoding='utf-8')\n",
    "df_sentiment_year = pd.read_csv('C:/Users/Daniel/Downloads/PI_01_07/Data/Df_funciones/sentiment_year.csv', encoding= 'utf-8')\n",
    "df_reviews_clean = pd.read_csv('C:/Users/Daniel/Downloads/PI_01_07/Data/Df_funciones/reviews_clean.csv', encoding= 'utf-8')"
   ]
  },
  {
   "cell_type": "code",
   "execution_count": 9,
   "metadata": {},
   "outputs": [
    {
     "data": {
      "text/html": [
       "<div>\n",
       "<style scoped>\n",
       "    .dataframe tbody tr th:only-of-type {\n",
       "        vertical-align: middle;\n",
       "    }\n",
       "\n",
       "    .dataframe tbody tr th {\n",
       "        vertical-align: top;\n",
       "    }\n",
       "\n",
       "    .dataframe thead th {\n",
       "        text-align: right;\n",
       "    }\n",
       "</style>\n",
       "<table border=\"1\" class=\"dataframe\">\n",
       "  <thead>\n",
       "    <tr style=\"text-align: right;\">\n",
       "      <th></th>\n",
       "      <th>posted</th>\n",
       "      <th>item_id</th>\n",
       "      <th>recommend</th>\n",
       "      <th>review</th>\n",
       "      <th>user_id</th>\n",
       "      <th>análisis_sentimiento</th>\n",
       "    </tr>\n",
       "  </thead>\n",
       "  <tbody>\n",
       "    <tr>\n",
       "      <th>0</th>\n",
       "      <td>2011</td>\n",
       "      <td>1250</td>\n",
       "      <td>True</td>\n",
       "      <td>Simple yet with great replayability. In my opi...</td>\n",
       "      <td>76561197970982479</td>\n",
       "      <td>2</td>\n",
       "    </tr>\n",
       "    <tr>\n",
       "      <th>1</th>\n",
       "      <td>2011</td>\n",
       "      <td>22200</td>\n",
       "      <td>True</td>\n",
       "      <td>It's unique and worth a playthrough.</td>\n",
       "      <td>76561197970982479</td>\n",
       "      <td>2</td>\n",
       "    </tr>\n",
       "    <tr>\n",
       "      <th>2</th>\n",
       "      <td>2011</td>\n",
       "      <td>43110</td>\n",
       "      <td>True</td>\n",
       "      <td>Great atmosphere. The gunplay can be a bit chu...</td>\n",
       "      <td>76561197970982479</td>\n",
       "      <td>2</td>\n",
       "    </tr>\n",
       "    <tr>\n",
       "      <th>3</th>\n",
       "      <td>2014</td>\n",
       "      <td>251610</td>\n",
       "      <td>True</td>\n",
       "      <td>I know what you think when you see this title ...</td>\n",
       "      <td>js41637</td>\n",
       "      <td>2</td>\n",
       "    </tr>\n",
       "    <tr>\n",
       "      <th>4</th>\n",
       "      <td>2013</td>\n",
       "      <td>227300</td>\n",
       "      <td>True</td>\n",
       "      <td>For a simple (it's actually not all that simpl...</td>\n",
       "      <td>js41637</td>\n",
       "      <td>0</td>\n",
       "    </tr>\n",
       "    <tr>\n",
       "      <th>...</th>\n",
       "      <td>...</td>\n",
       "      <td>...</td>\n",
       "      <td>...</td>\n",
       "      <td>...</td>\n",
       "      <td>...</td>\n",
       "      <td>...</td>\n",
       "    </tr>\n",
       "    <tr>\n",
       "      <th>49181</th>\n",
       "      <td>2015</td>\n",
       "      <td>730</td>\n",
       "      <td>True</td>\n",
       "      <td>its FUNNNNNNNN</td>\n",
       "      <td>wayfeng</td>\n",
       "      <td>1</td>\n",
       "    </tr>\n",
       "    <tr>\n",
       "      <th>49182</th>\n",
       "      <td>2015</td>\n",
       "      <td>253980</td>\n",
       "      <td>True</td>\n",
       "      <td>Awesome fantasy game if you don't mind the gra...</td>\n",
       "      <td>76561198251004808</td>\n",
       "      <td>2</td>\n",
       "    </tr>\n",
       "    <tr>\n",
       "      <th>49183</th>\n",
       "      <td>2015</td>\n",
       "      <td>730</td>\n",
       "      <td>True</td>\n",
       "      <td>Prettyy Mad Game</td>\n",
       "      <td>72947282842</td>\n",
       "      <td>0</td>\n",
       "    </tr>\n",
       "    <tr>\n",
       "      <th>49184</th>\n",
       "      <td>2015</td>\n",
       "      <td>730</td>\n",
       "      <td>True</td>\n",
       "      <td>AMAZING GAME 10/10</td>\n",
       "      <td>ApxLGhost</td>\n",
       "      <td>2</td>\n",
       "    </tr>\n",
       "    <tr>\n",
       "      <th>49185</th>\n",
       "      <td>2015</td>\n",
       "      <td>369200</td>\n",
       "      <td>True</td>\n",
       "      <td>Why I voted yes? 1. Girl characters have boobs...</td>\n",
       "      <td>76561198267374962</td>\n",
       "      <td>2</td>\n",
       "    </tr>\n",
       "  </tbody>\n",
       "</table>\n",
       "<p>49186 rows × 6 columns</p>\n",
       "</div>"
      ],
      "text/plain": [
       "       posted  item_id  recommend  \\\n",
       "0        2011     1250       True   \n",
       "1        2011    22200       True   \n",
       "2        2011    43110       True   \n",
       "3        2014   251610       True   \n",
       "4        2013   227300       True   \n",
       "...       ...      ...        ...   \n",
       "49181    2015      730       True   \n",
       "49182    2015   253980       True   \n",
       "49183    2015      730       True   \n",
       "49184    2015      730       True   \n",
       "49185    2015   369200       True   \n",
       "\n",
       "                                                  review            user_id  \\\n",
       "0      Simple yet with great replayability. In my opi...  76561197970982479   \n",
       "1                   It's unique and worth a playthrough.  76561197970982479   \n",
       "2      Great atmosphere. The gunplay can be a bit chu...  76561197970982479   \n",
       "3      I know what you think when you see this title ...            js41637   \n",
       "4      For a simple (it's actually not all that simpl...            js41637   \n",
       "...                                                  ...                ...   \n",
       "49181                                     its FUNNNNNNNN            wayfeng   \n",
       "49182  Awesome fantasy game if you don't mind the gra...  76561198251004808   \n",
       "49183                                   Prettyy Mad Game        72947282842   \n",
       "49184                                 AMAZING GAME 10/10          ApxLGhost   \n",
       "49185  Why I voted yes? 1. Girl characters have boobs...  76561198267374962   \n",
       "\n",
       "       análisis_sentimiento  \n",
       "0                         2  \n",
       "1                         2  \n",
       "2                         2  \n",
       "3                         2  \n",
       "4                         0  \n",
       "...                     ...  \n",
       "49181                     1  \n",
       "49182                     2  \n",
       "49183                     0  \n",
       "49184                     2  \n",
       "49185                     2  \n",
       "\n",
       "[49186 rows x 6 columns]"
      ]
     },
     "execution_count": 9,
     "metadata": {},
     "output_type": "execute_result"
    }
   ],
   "source": [
    "df_reviews_clean"
   ]
  },
  {
   "cell_type": "markdown",
   "metadata": {},
   "source": [
    "PLAYTIMEGENRE"
   ]
  },
  {
   "cell_type": "code",
   "execution_count": 21,
   "metadata": {},
   "outputs": [
    {
     "data": {
      "text/html": [
       "<div>\n",
       "<style scoped>\n",
       "    .dataframe tbody tr th:only-of-type {\n",
       "        vertical-align: middle;\n",
       "    }\n",
       "\n",
       "    .dataframe tbody tr th {\n",
       "        vertical-align: top;\n",
       "    }\n",
       "\n",
       "    .dataframe thead th {\n",
       "        text-align: right;\n",
       "    }\n",
       "</style>\n",
       "<table border=\"1\" class=\"dataframe\">\n",
       "  <thead>\n",
       "    <tr style=\"text-align: right;\">\n",
       "      <th></th>\n",
       "      <th>genres</th>\n",
       "      <th>date</th>\n",
       "      <th>playtime_forever</th>\n",
       "    </tr>\n",
       "  </thead>\n",
       "  <tbody>\n",
       "    <tr>\n",
       "      <th>0</th>\n",
       "      <td>Action</td>\n",
       "      <td>1983</td>\n",
       "      <td>3473</td>\n",
       "    </tr>\n",
       "    <tr>\n",
       "      <th>1</th>\n",
       "      <td>Action</td>\n",
       "      <td>1984</td>\n",
       "      <td>384</td>\n",
       "    </tr>\n",
       "    <tr>\n",
       "      <th>2</th>\n",
       "      <td>Action</td>\n",
       "      <td>1988</td>\n",
       "      <td>16001</td>\n",
       "    </tr>\n",
       "    <tr>\n",
       "      <th>3</th>\n",
       "      <td>Action</td>\n",
       "      <td>1989</td>\n",
       "      <td>607</td>\n",
       "    </tr>\n",
       "    <tr>\n",
       "      <th>4</th>\n",
       "      <td>Action</td>\n",
       "      <td>1990</td>\n",
       "      <td>18271</td>\n",
       "    </tr>\n",
       "  </tbody>\n",
       "</table>\n",
       "</div>"
      ],
      "text/plain": [
       "   genres  date  playtime_forever\n",
       "0  Action  1983              3473\n",
       "1  Action  1984               384\n",
       "2  Action  1988             16001\n",
       "3  Action  1989               607\n",
       "4  Action  1990             18271"
      ]
     },
     "execution_count": 21,
     "metadata": {},
     "output_type": "execute_result"
    }
   ],
   "source": [
    "df_playtime_genre.head(5)"
   ]
  },
  {
   "cell_type": "code",
   "execution_count": 15,
   "metadata": {},
   "outputs": [],
   "source": [
    "\n",
    "# 1 FUNCION PLAYTIMEGENRE\n",
    "def PlayTimeGenre(genre: str):\n",
    "\n",
    "    ### Creo un dataset solo con el listado de datos con el genero brindado\n",
    "    df_genero = df_playtime_genre[df_playtime_genre['genres'].str.lower() == genre.lower() if isinstance(genre, str) else None]\n",
    "\n",
    "    ### Si el df está vacio, es porque no encontró informacion para el genero ingreado\n",
    "    if df_genero.empty:\n",
    "        return {f\"No hay informacion para el genero {genre}\": None}\n",
    "\n",
    "    if not df_genero['playtime_forever'].empty:\n",
    "        \n",
    "        max_hours = df_genero.loc[df_genero['playtime_forever'].idxmax(), 'date']\n",
    "\n",
    "        return {f\"Año de lanzamiento con mayor horas de juego para el genero {genre}\": max_hours}\n",
    "    else:\n",
    "        return {f\"No hay informacion para el genero {genre}\": None}"
   ]
  },
  {
   "cell_type": "code",
   "execution_count": 16,
   "metadata": {},
   "outputs": [
    {
     "data": {
      "text/plain": [
       "{'Año de lanzamiento con mayor horas de juego para el genero Action': 2012}"
      ]
     },
     "execution_count": 16,
     "metadata": {},
     "output_type": "execute_result"
    }
   ],
   "source": [
    "PlayTimeGenre('Action')"
   ]
  },
  {
   "cell_type": "markdown",
   "metadata": {},
   "source": [
    "USER FOR GENRE"
   ]
  },
  {
   "cell_type": "code",
   "execution_count": 18,
   "metadata": {},
   "outputs": [
    {
     "data": {
      "text/html": [
       "<div>\n",
       "<style scoped>\n",
       "    .dataframe tbody tr th:only-of-type {\n",
       "        vertical-align: middle;\n",
       "    }\n",
       "\n",
       "    .dataframe tbody tr th {\n",
       "        vertical-align: top;\n",
       "    }\n",
       "\n",
       "    .dataframe thead th {\n",
       "        text-align: right;\n",
       "    }\n",
       "</style>\n",
       "<table border=\"1\" class=\"dataframe\">\n",
       "  <thead>\n",
       "    <tr style=\"text-align: right;\">\n",
       "      <th></th>\n",
       "      <th>genres</th>\n",
       "      <th>user_id</th>\n",
       "      <th>date</th>\n",
       "      <th>playtime_hours</th>\n",
       "    </tr>\n",
       "  </thead>\n",
       "  <tbody>\n",
       "    <tr>\n",
       "      <th>0</th>\n",
       "      <td>Action</td>\n",
       "      <td>--000--</td>\n",
       "      <td>2009</td>\n",
       "      <td>88.81</td>\n",
       "    </tr>\n",
       "    <tr>\n",
       "      <th>1</th>\n",
       "      <td>Action</td>\n",
       "      <td>--000--</td>\n",
       "      <td>2010</td>\n",
       "      <td>0.37</td>\n",
       "    </tr>\n",
       "    <tr>\n",
       "      <th>2</th>\n",
       "      <td>Action</td>\n",
       "      <td>--000--</td>\n",
       "      <td>2012</td>\n",
       "      <td>1822.44</td>\n",
       "    </tr>\n",
       "    <tr>\n",
       "      <th>3</th>\n",
       "      <td>Action</td>\n",
       "      <td>--000--</td>\n",
       "      <td>2014</td>\n",
       "      <td>63.79</td>\n",
       "    </tr>\n",
       "    <tr>\n",
       "      <th>4</th>\n",
       "      <td>Action</td>\n",
       "      <td>--000--</td>\n",
       "      <td>2016</td>\n",
       "      <td>1.58</td>\n",
       "    </tr>\n",
       "  </tbody>\n",
       "</table>\n",
       "</div>"
      ],
      "text/plain": [
       "   genres  user_id  date  playtime_hours\n",
       "0  Action  --000--  2009           88.81\n",
       "1  Action  --000--  2010            0.37\n",
       "2  Action  --000--  2012         1822.44\n",
       "3  Action  --000--  2014           63.79\n",
       "4  Action  --000--  2016            1.58"
      ]
     },
     "execution_count": 18,
     "metadata": {},
     "output_type": "execute_result"
    }
   ],
   "source": [
    "df_user_for_genre.head(5)"
   ]
  },
  {
   "cell_type": "code",
   "execution_count": 19,
   "metadata": {},
   "outputs": [],
   "source": [
    "def UserForGenre(genre: str):\n",
    "    \n",
    "    genre_df = df_user_for_genre[df_user_for_genre['genres'].str.lower() == genre.lower() if isinstance(genre, str) else None]\n",
    "\n",
    "    if genre_df.empty:\n",
    "        return {\"Usuario con mas horas jugadas para el genero\": None, \"Horas jugadas por año\": {}}\n",
    "\n",
    "    user_playtime_sum = genre_df.groupby('user_id')['horas'].sum()\n",
    "\n",
    "    max_horas = user_playtime_sum.idxmax()\n",
    "\n",
    "    usuario = genre_df[genre_df['user_id'] == max_horas]\n",
    "\n",
    "    horas_año = dict(zip(usuario['date'], usuario['horas']))\n",
    "\n",
    "    return {f\"Usuario con mas horas jugadas para el genero {genre}\": max_horas, \"Horas jugadas por año\": horas_año}"
   ]
  },
  {
   "cell_type": "code",
   "execution_count": 20,
   "metadata": {},
   "outputs": [
    {
     "data": {
      "text/plain": [
       "{'Usuario con mas horas jugadas para el genero': None,\n",
       " 'Horas jugadas por año': {}}"
      ]
     },
     "execution_count": 20,
     "metadata": {},
     "output_type": "execute_result"
    }
   ],
   "source": [
    "UserForGenre('2D')"
   ]
  },
  {
   "cell_type": "markdown",
   "metadata": {},
   "source": [
    "USER RECOMMEND"
   ]
  },
  {
   "cell_type": "code",
   "execution_count": 22,
   "metadata": {},
   "outputs": [
    {
     "data": {
      "text/html": [
       "<div>\n",
       "<style scoped>\n",
       "    .dataframe tbody tr th:only-of-type {\n",
       "        vertical-align: middle;\n",
       "    }\n",
       "\n",
       "    .dataframe tbody tr th {\n",
       "        vertical-align: top;\n",
       "    }\n",
       "\n",
       "    .dataframe thead th {\n",
       "        text-align: right;\n",
       "    }\n",
       "</style>\n",
       "<table border=\"1\" class=\"dataframe\">\n",
       "  <thead>\n",
       "    <tr style=\"text-align: right;\">\n",
       "      <th></th>\n",
       "      <th>item_id</th>\n",
       "      <th>item_name</th>\n",
       "      <th>posted</th>\n",
       "      <th>recommend</th>\n",
       "      <th>análisis_sentimiento</th>\n",
       "    </tr>\n",
       "  </thead>\n",
       "  <tbody>\n",
       "    <tr>\n",
       "      <th>0</th>\n",
       "      <td>70</td>\n",
       "      <td>Half-Life</td>\n",
       "      <td>2015</td>\n",
       "      <td>True</td>\n",
       "      <td>0</td>\n",
       "    </tr>\n",
       "    <tr>\n",
       "      <th>1</th>\n",
       "      <td>70</td>\n",
       "      <td>Half-Life</td>\n",
       "      <td>2011</td>\n",
       "      <td>True</td>\n",
       "      <td>0</td>\n",
       "    </tr>\n",
       "    <tr>\n",
       "      <th>2</th>\n",
       "      <td>70</td>\n",
       "      <td>Half-Life</td>\n",
       "      <td>2014</td>\n",
       "      <td>True</td>\n",
       "      <td>0</td>\n",
       "    </tr>\n",
       "    <tr>\n",
       "      <th>3</th>\n",
       "      <td>70</td>\n",
       "      <td>Half-Life</td>\n",
       "      <td>2013</td>\n",
       "      <td>True</td>\n",
       "      <td>2</td>\n",
       "    </tr>\n",
       "    <tr>\n",
       "      <th>4</th>\n",
       "      <td>70</td>\n",
       "      <td>Half-Life</td>\n",
       "      <td>2013</td>\n",
       "      <td>True</td>\n",
       "      <td>0</td>\n",
       "    </tr>\n",
       "  </tbody>\n",
       "</table>\n",
       "</div>"
      ],
      "text/plain": [
       "   item_id  item_name  posted  recommend  análisis_sentimiento\n",
       "0       70  Half-Life    2015       True                     0\n",
       "1       70  Half-Life    2011       True                     0\n",
       "2       70  Half-Life    2014       True                     0\n",
       "3       70  Half-Life    2013       True                     2\n",
       "4       70  Half-Life    2013       True                     0"
      ]
     },
     "execution_count": 22,
     "metadata": {},
     "output_type": "execute_result"
    }
   ],
   "source": [
    "df_user_recommend.head(5)"
   ]
  },
  {
   "cell_type": "code",
   "execution_count": 44,
   "metadata": {},
   "outputs": [],
   "source": [
    "def UsersRecommend(year):\n",
    "\n",
    "    year = str(year)\n",
    "    \n",
    "    reviews = df_user_recommend[(df_user_recommend['posted'] == year) & (df_user_recommend['recommend'] == True)]\n",
    "    \n",
    "    positive_reviews = reviews[reviews['análisis_sentimiento'].isin([1, 2])]\n",
    "    \n",
    "    count = positive_reviews['item_id'].value_counts().reset_index()\n",
    "    count.columns = ['item_id', 'recommendations_count']\n",
    "\n",
    "    top3 = count.head(3)\n",
    "    \n",
    "    result = [{\"Posicion {}: {}\".format(i+1, row['item_id']): row['recommendations_count']} for i, row in top3.iterrows()]\n",
    "    \n",
    "    return result "
   ]
  },
  {
   "cell_type": "code",
   "execution_count": 45,
   "metadata": {},
   "outputs": [
    {
     "data": {
      "text/plain": [
       "[]"
      ]
     },
     "execution_count": 45,
     "metadata": {},
     "output_type": "execute_result"
    }
   ],
   "source": [
    "UsersRecommend(2010)"
   ]
  },
  {
   "cell_type": "code",
   "execution_count": 41,
   "metadata": {},
   "outputs": [
    {
     "data": {
      "text/plain": [
       "[]"
      ]
     },
     "execution_count": 41,
     "metadata": {},
     "output_type": "execute_result"
    }
   ],
   "source": [
    "UsersRecommend(2010)"
   ]
  },
  {
   "cell_type": "markdown",
   "metadata": {},
   "source": [
    "USER NOT RECOMMEND"
   ]
  },
  {
   "cell_type": "code",
   "execution_count": 30,
   "metadata": {},
   "outputs": [],
   "source": [
    "def UsersNotRecommend(year):\n",
    "    \n",
    "    year = str(year)\n",
    "   \n",
    "\n",
    "    filtered_reviews = df_user_recommend[(df_user_recommend['posted'] == year) & (df_user_recommend['recommend'] == False)]\n",
    "    \n",
    "    negative_reviews = filtered_reviews[filtered_reviews['análisis_sentimiento'] == 0]\n",
    "    \n",
    "    count = negative_reviews['item_id'].value_counts().reset_index()\n",
    "    count.columns = ['item_id', 'count']\n",
    "    \n",
    "    top3_not_recommendations = count.head(3)\n",
    "    \n",
    "    \n",
    "    result = [{\"Posicion {}: {}\".format(i+1, row['item_id']): row['count']} for i, row in top3_not_recommendations.iterrows()]\n",
    "    \n",
    "    return result\n"
   ]
  },
  {
   "cell_type": "code",
   "execution_count": 31,
   "metadata": {},
   "outputs": [
    {
     "data": {
      "text/plain": [
       "[]"
      ]
     },
     "execution_count": 31,
     "metadata": {},
     "output_type": "execute_result"
    }
   ],
   "source": [
    "UsersNotRecommend(2014)"
   ]
  },
  {
   "cell_type": "code",
   "execution_count": 39,
   "metadata": {},
   "outputs": [],
   "source": [
    "def sentiment_analysis(year):\n",
    "\n",
    "    year = str(year)\n",
    "\n",
    "    filtered_reviews = df_sentiment_year[df_sentiment_year['date'] == year]\n",
    "   \n",
    "    sentiment_counts = filtered_reviews['análisis_sentimiento'].value_counts().to_dict()\n",
    "  \n",
    "    result = {\n",
    "        'Negative': sentiment_counts.get(0, 0),\n",
    "        'Neutral': sentiment_counts.get(1, 0),\n",
    "        'Positive': sentiment_counts.get(2, 0)\n",
    "    }\n",
    "    \n",
    "    return result"
   ]
  },
  {
   "cell_type": "code",
   "execution_count": 40,
   "metadata": {},
   "outputs": [
    {
     "data": {
      "text/plain": [
       "{'Negative': 0, 'Neutral': 0, 'Positive': 0}"
      ]
     },
     "execution_count": 40,
     "metadata": {},
     "output_type": "execute_result"
    }
   ],
   "source": [
    "sentiment_analysis(2014)"
   ]
  }
 ],
 "metadata": {
  "kernelspec": {
   "display_name": "Python 3",
   "language": "python",
   "name": "python3"
  },
  "language_info": {
   "codemirror_mode": {
    "name": "ipython",
    "version": 3
   },
   "file_extension": ".py",
   "mimetype": "text/x-python",
   "name": "python",
   "nbconvert_exporter": "python",
   "pygments_lexer": "ipython3",
   "version": "3.11.4"
  }
 },
 "nbformat": 4,
 "nbformat_minor": 2
}
